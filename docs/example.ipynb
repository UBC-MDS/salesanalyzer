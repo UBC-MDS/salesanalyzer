{
 "cells": [
  {
   "cell_type": "markdown",
   "metadata": {},
   "source": [
    "# Example usage\n",
    "\n",
    "Welcome to the `sales_analyzer` package! This package is designed to help small-sized businesses analyze their retail sales data efficiently, without needing extensive data analytics expertise. If you've ever felt overwhelmed by tools like Pandas or Scikit-learn, or wished for more retail-specific functions, you're in the right place.\n",
    "\n",
    "In this notebook, we'll walk through how to use the `sales_analyzer` package to extract valuable insights from your sales data. We’ll demonstrate key functionalities using real-world examples, so you can start improving your business decisions right away."
   ]
  },
  {
   "cell_type": "markdown",
   "metadata": {},
   "source": [
    "## Imports"
   ]
  },
  {
   "cell_type": "code",
   "execution_count": 7,
   "metadata": {},
   "outputs": [],
   "source": [
    "import pandas as pd\n",
    "import numpy as np\n",
    "import random\n",
    "from datetime import datetime, timedelta\n",
    "import random\n",
    "\n",
    "from salesanalyzer.sales_summary_statistics import sales_summary_statistics\n",
    "from salesanalyzer.predict_sales import predict_sales"
   ]
  },
  {
   "cell_type": "markdown",
   "metadata": {},
   "source": [
    "## Create a sample data\n",
    "\n",
    "We'll first create a sample data to work with."
   ]
  },
  {
   "cell_type": "code",
   "execution_count": 8,
   "metadata": {},
   "outputs": [],
   "source": [
    "def generate_random_dates(n):\n",
    "    random.seed(1)\n",
    "    # Get the current date\n",
    "    today = datetime.now()\n",
    "    # Calculate the date two years ago\n",
    "    two_years_ago = today - timedelta(days=730)\n",
    "    \n",
    "    # Generate n random dates\n",
    "    random_dates = [\n",
    "        two_years_ago + timedelta(days=random.randint(0, (today - two_years_ago).days))\n",
    "        for _ in range(n)\n",
    "    ]\n",
    "\n",
    "    return random_dates  "
   ]
  },
  {
   "cell_type": "code",
   "execution_count": 9,
   "metadata": {},
   "outputs": [],
   "source": [
    "def anonymize_data(obs=50):\n",
    "    random.seed(1)\n",
    "\n",
    "    df = pd.DataFrame({})\n",
    "\n",
    "    fake_products = [\n",
    "        \"Laptop\", \"Monitor\", \"Headphone\"\n",
    "    ]\n",
    "\n",
    "    fake_cities = [\n",
    "        \"Vancouver\", \"Toronto\", \"Calgary\"\n",
    "    ]\n",
    "    \n",
    "\n",
    "    # Replace InvoiceNo with random unique numbers\n",
    "    df['InvoiceNo'] = [f'INV-{random.randint(100000, 999999)}' for _ in range(obs)]\n",
    "\n",
    "    # Replace StockCode with random alphanumeric strings\n",
    "    df['StockCode'] = [f'SC{random.randint(1000, 9999)}' for _ in range(obs)]\n",
    "\n",
    "    # Replace Description with random fake product names\n",
    "    df['Description'] = [random.choice(fake_products) for _ in range(obs)]\n",
    "\n",
    "    # Modify Quantity with random realistic values\n",
    "    df['Quantity'] = [int(np.random.exponential(2)) + 1 for _ in range(obs)]\n",
    "\n",
    "    # Replace InvoiceDate with random dates in the last two years\n",
    "    df['InvoiceDate'] = generate_random_dates(obs)\n",
    "\n",
    "    # Modify UnitPrice with random prices\n",
    "    df['UnitPrice'] = [round(random.uniform(0.5, 50), 2) for _ in range(obs)]\n",
    "\n",
    "    # Replace CustomerID with random unique identifiers\n",
    "    df['CustomerID'] = [random.randint(10000, 99999) for _ in range(obs)]\n",
    "\n",
    "    # Replace Country with random countries\n",
    "    df['Country'] = [random.choice(fake_cities) for _ in range(obs)]\n",
    "\n",
    "    return df"
   ]
  },
  {
   "cell_type": "code",
   "execution_count": 10,
   "metadata": {},
   "outputs": [
    {
     "data": {
      "text/html": [
       "<div>\n",
       "<style scoped>\n",
       "    .dataframe tbody tr th:only-of-type {\n",
       "        vertical-align: middle;\n",
       "    }\n",
       "\n",
       "    .dataframe tbody tr th {\n",
       "        vertical-align: top;\n",
       "    }\n",
       "\n",
       "    .dataframe thead th {\n",
       "        text-align: right;\n",
       "    }\n",
       "</style>\n",
       "<table border=\"1\" class=\"dataframe\">\n",
       "  <thead>\n",
       "    <tr style=\"text-align: right;\">\n",
       "      <th></th>\n",
       "      <th>InvoiceNo</th>\n",
       "      <th>StockCode</th>\n",
       "      <th>Description</th>\n",
       "      <th>Quantity</th>\n",
       "      <th>InvoiceDate</th>\n",
       "      <th>UnitPrice</th>\n",
       "      <th>CustomerID</th>\n",
       "      <th>Country</th>\n",
       "    </tr>\n",
       "  </thead>\n",
       "  <tbody>\n",
       "    <tr>\n",
       "      <th>0</th>\n",
       "      <td>INV-240891</td>\n",
       "      <td>SC8174</td>\n",
       "      <td>Laptop</td>\n",
       "      <td>5</td>\n",
       "      <td>2023-06-09 15:51:36.351493</td>\n",
       "      <td>41.96</td>\n",
       "      <td>85732</td>\n",
       "      <td>Toronto</td>\n",
       "    </tr>\n",
       "    <tr>\n",
       "      <th>1</th>\n",
       "      <td>INV-696853</td>\n",
       "      <td>SC9123</td>\n",
       "      <td>Laptop</td>\n",
       "      <td>8</td>\n",
       "      <td>2024-08-27 15:51:36.351493</td>\n",
       "      <td>28.04</td>\n",
       "      <td>56304</td>\n",
       "      <td>Vancouver</td>\n",
       "    </tr>\n",
       "    <tr>\n",
       "      <th>2</th>\n",
       "      <td>INV-988598</td>\n",
       "      <td>SC4818</td>\n",
       "      <td>Laptop</td>\n",
       "      <td>1</td>\n",
       "      <td>2023-03-28 15:51:36.351493</td>\n",
       "      <td>32.29</td>\n",
       "      <td>70179</td>\n",
       "      <td>Toronto</td>\n",
       "    </tr>\n",
       "    <tr>\n",
       "      <th>3</th>\n",
       "      <td>INV-941235</td>\n",
       "      <td>SC6663</td>\n",
       "      <td>Headphone</td>\n",
       "      <td>1</td>\n",
       "      <td>2023-10-11 15:51:36.351493</td>\n",
       "      <td>9.70</td>\n",
       "      <td>45294</td>\n",
       "      <td>Vancouver</td>\n",
       "    </tr>\n",
       "    <tr>\n",
       "      <th>4</th>\n",
       "      <td>INV-900875</td>\n",
       "      <td>SC4782</td>\n",
       "      <td>Headphone</td>\n",
       "      <td>3</td>\n",
       "      <td>2023-05-23 15:51:36.351493</td>\n",
       "      <td>49.63</td>\n",
       "      <td>96404</td>\n",
       "      <td>Toronto</td>\n",
       "    </tr>\n",
       "  </tbody>\n",
       "</table>\n",
       "</div>"
      ],
      "text/plain": [
       "    InvoiceNo StockCode Description  ...  UnitPrice CustomerID    Country\n",
       "0  INV-240891    SC8174      Laptop  ...      41.96      85732    Toronto\n",
       "1  INV-696853    SC9123      Laptop  ...      28.04      56304  Vancouver\n",
       "2  INV-988598    SC4818      Laptop  ...      32.29      70179    Toronto\n",
       "3  INV-941235    SC6663   Headphone  ...       9.70      45294  Vancouver\n",
       "4  INV-900875    SC4782   Headphone  ...      49.63      96404    Toronto\n",
       "\n",
       "[5 rows x 8 columns]"
      ]
     },
     "execution_count": 10,
     "metadata": {},
     "output_type": "execute_result"
    }
   ],
   "source": [
    "sample_data = anonymize_data()\n",
    "sample_data.head()"
   ]
  },
  {
   "cell_type": "markdown",
   "metadata": {},
   "source": [
    "## Get Summary Statistics\n",
    "\n",
    "One of the key features of `sales_analyzer` is its ability to quickly generate sales summary. Use the `analyze_sales_trends` function to generate insights like total revenue, average order value, and top selling products."
   ]
  },
  {
   "cell_type": "code",
   "execution_count": 11,
   "metadata": {},
   "outputs": [
    {
     "data": {
      "text/html": [
       "<div>\n",
       "<style scoped>\n",
       "    .dataframe tbody tr th:only-of-type {\n",
       "        vertical-align: middle;\n",
       "    }\n",
       "\n",
       "    .dataframe tbody tr th {\n",
       "        vertical-align: top;\n",
       "    }\n",
       "\n",
       "    .dataframe thead th {\n",
       "        text-align: right;\n",
       "    }\n",
       "</style>\n",
       "<table border=\"1\" class=\"dataframe\">\n",
       "  <thead>\n",
       "    <tr style=\"text-align: right;\">\n",
       "      <th></th>\n",
       "      <th>total_revenue</th>\n",
       "      <th>unique_customers</th>\n",
       "      <th>average_order_value</th>\n",
       "      <th>top_selling_product_quantity</th>\n",
       "      <th>top_selling_product_revenue</th>\n",
       "      <th>average_revenue_per_customer</th>\n",
       "    </tr>\n",
       "  </thead>\n",
       "  <tbody>\n",
       "    <tr>\n",
       "      <th>0</th>\n",
       "      <td>3422.78</td>\n",
       "      <td>50</td>\n",
       "      <td>68.4556</td>\n",
       "      <td>Monitor</td>\n",
       "      <td>Laptop</td>\n",
       "      <td>68.4556</td>\n",
       "    </tr>\n",
       "  </tbody>\n",
       "</table>\n",
       "</div>"
      ],
      "text/plain": [
       "   total_revenue  ...  average_revenue_per_customer\n",
       "0        3422.78  ...                       68.4556\n",
       "\n",
       "[1 rows x 6 columns]"
      ]
     },
     "execution_count": 11,
     "metadata": {},
     "output_type": "execute_result"
    }
   ],
   "source": [
    "sales_summary_statistics(sample_data)"
   ]
  },
  {
   "cell_type": "markdown",
   "metadata": {},
   "source": [
    "## Predict Future Sales\n",
    "\n",
    "Now that you have a good summary of your **past** sales, say, you want to peek into the **future** and predict how your products will sell in a month, 2 months or even a year? You can do this with `predict_sales()` function. This function uses a Random Forest machine learning model to make predictions on your specified target (e.g. quantity sold). The output will be a dictionary with predicted values, and the model's performance score (Mean Squared Error).\n",
    "\n",
    "> **Important** <br>\n",
    "> `predict_sales()` checks for duplicate entries, and only considers unique data points <br>\n",
    "> By default the function uses 70% data for training and 30% for testing, to change that you can pass test_size = 0.2 increase the ratio, if your data size is small "
   ]
  },
  {
   "cell_type": "code",
   "execution_count": 13,
   "metadata": {},
   "outputs": [
    {
     "data": {
      "text/plain": [
       "{'MSE of the model': 2.24,\n",
       " 'Predicted values': [np.float64(1.68), np.float64(4.87), np.float64(2.91)]}"
      ]
     },
     "execution_count": 13,
     "metadata": {},
     "output_type": "execute_result"
    }
   ],
   "source": [
    "new_data = anonymize_data(3)\n",
    "predict_sales(sample_data, new_data, ['UnitPrice'], ['Description', 'Country'], 'Quantity', 'InvoiceDate')"
   ]
  },
  {
   "cell_type": "markdown",
   "metadata": {},
   "source": [
    "If you don't want to include a date feature into your analysis, you can omit it from your arguments\n"
   ]
  },
  {
   "cell_type": "code",
   "execution_count": 14,
   "metadata": {},
   "outputs": [
    {
     "data": {
      "text/plain": [
       "{'MSE of the model': 1.29,\n",
       " 'Predicted values': [np.float64(1.93), np.float64(3.1), np.float64(2.37)]}"
      ]
     },
     "execution_count": 14,
     "metadata": {},
     "output_type": "execute_result"
    }
   ],
   "source": [
    "predict_sales(sample_data, new_data, ['UnitPrice'], ['Description', 'Country'], 'Quantity')"
   ]
  }
 ],
 "metadata": {
  "kernelspec": {
   "display_name": "salesanalyzser",
   "language": "python",
   "name": "python3"
  },
  "language_info": {
   "codemirror_mode": {
    "name": "ipython",
    "version": 3
   },
   "file_extension": ".py",
   "mimetype": "text/x-python",
   "name": "python",
   "nbconvert_exporter": "python",
   "pygments_lexer": "ipython3",
   "version": "3.12.2"
  }
 },
 "nbformat": 4,
 "nbformat_minor": 4
}
