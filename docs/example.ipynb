{
    "cells": [
        {
            "cell_type": "markdown",
            "metadata": {},
            "source": [
                "# Example usage\n",
                "\n",
                "Welcome to the `sales_analyzer` package! This package is designed to help small-sized businesses analyze their retail sales data efficiently, without needing extensive data analytics expertise. If you've ever felt overwhelmed by tools like Pandas or Scikit-learn, or wished for more retail-specific functions, you're in the right place.\n",
                "\n",
                "In this notebook, we'll walk through how to use the `sales_analyzer` package to extract valuable insights from your sales data. We’ll demonstrate key functionalities using real-world examples, so you can start improving your business decisions right away."
            ]
        },
        {
            "cell_type": "markdown",
            "metadata": {},
            "source": [
                "## Imports"
            ]
        },
        {
            "cell_type": "code",
            "execution_count": 1,
            "metadata": {},
            "outputs": [],
            "source": [
                "import pandas as pd\n",
                "import numpy as np\n",
                "import random\n",
                "from datetime import datetime, timedelta\n",
                "import random\n",
                "\n",
                "from salesanalyzer.sales_summary_statistics import sales_summary_statistics\n",
                "from salesanalyzer.segment_revenue_share import segment_revenue_share"
            ]
        },
        {
            "cell_type": "markdown",
            "metadata": {},
            "source": [
                "## Create a sample data\n",
                "\n",
                "We'll first create a sample data to work with."
            ]
        },
        {
            "cell_type": "code",
            "execution_count": 2,
            "metadata": {},
            "outputs": [],
            "source": [
                "def generate_random_dates(n):\n",
                "    random.seed(1)\n",
                "    # Get the current date\n",
                "    today = datetime.now()\n",
                "    # Calculate the date two years ago\n",
                "    two_years_ago = today - timedelta(days=730)\n",
                "    \n",
                "    # Generate n random dates\n",
                "    random_dates = [\n",
                "        two_years_ago + timedelta(days=random.randint(0, (today - two_years_ago).days))\n",
                "        for _ in range(n)\n",
                "    ]\n",
                "\n",
                "    return random_dates  "
            ]
        },
        {
            "cell_type": "code",
            "execution_count": 3,
            "metadata": {},
            "outputs": [],
            "source": [
                "def anonymize_data(obs=50):\n",
                "    random.seed(1)\n",
                "\n",
                "    df = pd.DataFrame({})\n",
                "\n",
                "    fake_products = [\n",
                "        \"Laptop\", \"Monitor\", \"Headphone\"\n",
                "    ]\n",
                "\n",
                "    fake_cities = [\n",
                "        \"Vancouver\", \"Toronto\", \"Calgary\"\n",
                "    ]\n",
                "    \n",
                "\n",
                "    # Replace InvoiceNo with random unique numbers\n",
                "    df['InvoiceNo'] = [f'INV-{random.randint(100000, 999999)}' for _ in range(obs)]\n",
                "\n",
                "    # Replace StockCode with random alphanumeric strings\n",
                "    df['StockCode'] = [f'SC{random.randint(1000, 9999)}' for _ in range(obs)]\n",
                "\n",
                "    # Replace Description with random fake product names\n",
                "    df['Description'] = [random.choice(fake_products) for _ in range(obs)]\n",
                "\n",
                "    # Modify Quantity with random realistic values\n",
                "    df['Quantity'] = [int(np.random.exponential(2)) + 1 for _ in range(obs)]\n",
                "\n",
                "    # Replace InvoiceDate with random dates in the last two years\n",
                "    df['InvoiceDate'] = generate_random_dates(obs)\n",
                "\n",
                "    # Modify UnitPrice with random prices\n",
                "    df['UnitPrice'] = [round(random.uniform(0.5, 50), 2) for _ in range(obs)]\n",
                "\n",
                "    # Replace CustomerID with random unique identifiers\n",
                "    df['CustomerID'] = [random.randint(10000, 99999) for _ in range(obs)]\n",
                "\n",
                "    # Replace Country with random countries\n",
                "    df['Country'] = [random.choice(fake_cities) for _ in range(obs)]\n",
                "\n",
                "    return df"
            ]
        },
        {
            "cell_type": "code",
            "execution_count": 4,
            "metadata": {},
            "outputs": [
                {
                    "data": {
                        "text/html": [
                            "<div>\n",
                            "<style scoped>\n",
                            "    .dataframe tbody tr th:only-of-type {\n",
                            "        vertical-align: middle;\n",
                            "    }\n",
                            "\n",
                            "    .dataframe tbody tr th {\n",
                            "        vertical-align: top;\n",
                            "    }\n",
                            "\n",
                            "    .dataframe thead th {\n",
                            "        text-align: right;\n",
                            "    }\n",
                            "</style>\n",
                            "<table border=\"1\" class=\"dataframe\">\n",
                            "  <thead>\n",
                            "    <tr style=\"text-align: right;\">\n",
                            "      <th></th>\n",
                            "      <th>InvoiceNo</th>\n",
                            "      <th>StockCode</th>\n",
                            "      <th>Description</th>\n",
                            "      <th>Quantity</th>\n",
                            "      <th>InvoiceDate</th>\n",
                            "      <th>UnitPrice</th>\n",
                            "      <th>CustomerID</th>\n",
                            "      <th>Country</th>\n",
                            "    </tr>\n",
                            "  </thead>\n",
                            "  <tbody>\n",
                            "    <tr>\n",
                            "      <th>0</th>\n",
                            "      <td>INV-240891</td>\n",
                            "      <td>SC8174</td>\n",
                            "      <td>Laptop</td>\n",
                            "      <td>1</td>\n",
                            "      <td>2023-06-09 15:48:36.776452</td>\n",
                            "      <td>41.96</td>\n",
                            "      <td>85732</td>\n",
                            "      <td>Toronto</td>\n",
                            "    </tr>\n",
                            "    <tr>\n",
                            "      <th>1</th>\n",
                            "      <td>INV-696853</td>\n",
                            "      <td>SC9123</td>\n",
                            "      <td>Laptop</td>\n",
                            "      <td>1</td>\n",
                            "      <td>2024-08-27 15:48:36.776452</td>\n",
                            "      <td>28.04</td>\n",
                            "      <td>56304</td>\n",
                            "      <td>Vancouver</td>\n",
                            "    </tr>\n",
                            "    <tr>\n",
                            "      <th>2</th>\n",
                            "      <td>INV-988598</td>\n",
                            "      <td>SC4818</td>\n",
                            "      <td>Laptop</td>\n",
                            "      <td>3</td>\n",
                            "      <td>2023-03-28 15:48:36.776452</td>\n",
                            "      <td>32.29</td>\n",
                            "      <td>70179</td>\n",
                            "      <td>Toronto</td>\n",
                            "    </tr>\n",
                            "    <tr>\n",
                            "      <th>3</th>\n",
                            "      <td>INV-941235</td>\n",
                            "      <td>SC6663</td>\n",
                            "      <td>Headphone</td>\n",
                            "      <td>1</td>\n",
                            "      <td>2023-10-11 15:48:36.776452</td>\n",
                            "      <td>9.70</td>\n",
                            "      <td>45294</td>\n",
                            "      <td>Vancouver</td>\n",
                            "    </tr>\n",
                            "    <tr>\n",
                            "      <th>4</th>\n",
                            "      <td>INV-900875</td>\n",
                            "      <td>SC4782</td>\n",
                            "      <td>Headphone</td>\n",
                            "      <td>4</td>\n",
                            "      <td>2023-05-23 15:48:36.776452</td>\n",
                            "      <td>49.63</td>\n",
                            "      <td>96404</td>\n",
                            "      <td>Toronto</td>\n",
                            "    </tr>\n",
                            "  </tbody>\n",
                            "</table>\n",
                            "</div>"
                        ],
                        "text/plain": [
                            "    InvoiceNo StockCode Description  Quantity                InvoiceDate  \\\n",
                            "0  INV-240891    SC8174      Laptop         1 2023-06-09 15:48:36.776452   \n",
                            "1  INV-696853    SC9123      Laptop         1 2024-08-27 15:48:36.776452   \n",
                            "2  INV-988598    SC4818      Laptop         3 2023-03-28 15:48:36.776452   \n",
                            "3  INV-941235    SC6663   Headphone         1 2023-10-11 15:48:36.776452   \n",
                            "4  INV-900875    SC4782   Headphone         4 2023-05-23 15:48:36.776452   \n",
                            "\n",
                            "   UnitPrice  CustomerID    Country  \n",
                            "0      41.96       85732    Toronto  \n",
                            "1      28.04       56304  Vancouver  \n",
                            "2      32.29       70179    Toronto  \n",
                            "3       9.70       45294  Vancouver  \n",
                            "4      49.63       96404    Toronto  "
                        ]
                    },
                    "execution_count": 4,
                    "metadata": {},
                    "output_type": "execute_result"
                }
            ],
            "source": [
                "sample_data = anonymize_data()\n",
                "sample_data.head()"
            ]
        },
        {
            "cell_type": "markdown",
            "metadata": {},
            "source": [
                "## Get Summary Statistics\n",
                "\n",
                "One of the key features of `sales_analyzer` is its ability to quickly generate sales summary. Use the `analyze_sales_trends` function to generate insights like total revenue, average order value, and top selling products."
            ]
        },
        {
            "cell_type": "code",
            "execution_count": 5,
            "metadata": {},
            "outputs": [
                {
                    "data": {
                        "text/html": [
                            "<div>\n",
                            "<style scoped>\n",
                            "    .dataframe tbody tr th:only-of-type {\n",
                            "        vertical-align: middle;\n",
                            "    }\n",
                            "\n",
                            "    .dataframe tbody tr th {\n",
                            "        vertical-align: top;\n",
                            "    }\n",
                            "\n",
                            "    .dataframe thead th {\n",
                            "        text-align: right;\n",
                            "    }\n",
                            "</style>\n",
                            "<table border=\"1\" class=\"dataframe\">\n",
                            "  <thead>\n",
                            "    <tr style=\"text-align: right;\">\n",
                            "      <th></th>\n",
                            "      <th>total_revenue</th>\n",
                            "      <th>unique_customers</th>\n",
                            "      <th>average_order_value</th>\n",
                            "      <th>top_selling_product_quantity</th>\n",
                            "      <th>top_selling_product_revenue</th>\n",
                            "      <th>average_revenue_per_customer</th>\n",
                            "    </tr>\n",
                            "  </thead>\n",
                            "  <tbody>\n",
                            "    <tr>\n",
                            "      <th>0</th>\n",
                            "      <td>3528.79</td>\n",
                            "      <td>50</td>\n",
                            "      <td>70.5758</td>\n",
                            "      <td>Headphone</td>\n",
                            "      <td>Headphone</td>\n",
                            "      <td>70.5758</td>\n",
                            "    </tr>\n",
                            "  </tbody>\n",
                            "</table>\n",
                            "</div>"
                        ],
                        "text/plain": [
                            "   total_revenue  unique_customers  average_order_value  \\\n",
                            "0        3528.79                50              70.5758   \n",
                            "\n",
                            "  top_selling_product_quantity top_selling_product_revenue  \\\n",
                            "0                    Headphone                   Headphone   \n",
                            "\n",
                            "   average_revenue_per_customer  \n",
                            "0                       70.5758  "
                        ]
                    },
                    "execution_count": 5,
                    "metadata": {},
                    "output_type": "execute_result"
                }
            ],
            "source": [
                "sales_summary_statistics(sample_data)"
            ]
        },
        {
            "cell_type": "markdown",
            "metadata": {},
            "source": [
                "## Segment Products and Calculate Revenue Share\n",
                "\n",
                "Another feature of `saleanalyzer`, the `segment_revenue_share` function, segments products into three categories — cheap, medium, and expensive — based on their price, and calculates the respective share of total revenue contributed by each segment. This function is particularly useful for understanding revenue distribution across different pricing tiers.\n",
                "\n"
            ]
        },
        {
            "cell_type": "code",
            "execution_count": 6,
            "metadata": {},
            "outputs": [
                {
                    "name": "stdout",
                    "output_type": "stream",
                    "text": [
                        "  PriceSegment  TotalRevenue  RevenueShare (%)\n",
                        "0        cheap        615.89             17.45\n",
                        "1    expensive       2186.27             61.96\n",
                        "2       medium        726.63             20.59\n"
                    ]
                }
            ],
            "source": [
                "# Segment revenue share\n",
                "revenue_share = segment_revenue_share(sample_data, price_col='UnitPrice', quantity_col='Quantity')\n",
                "\n",
                "# Display the results\n",
                "print(revenue_share)"
            ]
        }
    ],
    "metadata": {
        "kernelspec": {
            "display_name": "salesanalyzer",
            "language": "python",
            "name": "python3"
        },
        "language_info": {
            "codemirror_mode": {
                "name": "ipython",
                "version": 3
            },
            "file_extension": ".py",
            "mimetype": "text/x-python",
            "name": "python",
            "nbconvert_exporter": "python",
            "pygments_lexer": "ipython3",
            "version": "3.13.1"
        }
    },
    "nbformat": 4,
    "nbformat_minor": 4
}
