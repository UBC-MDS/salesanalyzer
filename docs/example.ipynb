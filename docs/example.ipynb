{
    "cells": [
        {
            "cell_type": "markdown",
            "metadata": {},
            "source": [
                "# Example usage\n",
                "\n",
                "Welcome to the `sales_analyzer` package! This package is designed to help small-sized businesses analyze their retail sales data efficiently, without needing extensive data analytics expertise. If you've ever felt overwhelmed by tools like Pandas or Scikit-learn, or wished for more retail-specific functions, you're in the right place.\n",
                "\n",
                "In this notebook, we'll walk through how to use the `sales_analyzer` package to extract valuable insights from your sales data. We’ll demonstrate key functionalities using real-world examples, so you can start improving your business decisions right away."
            ]
        },
        {
            "cell_type": "markdown",
            "metadata": {},
            "source": [
                "## Imports"
            ]
        },
        {
            "cell_type": "code",
            "execution_count": 1,
            "metadata": {},
            "outputs": [],
            "source": [
                "import pandas as pd\n",
                "import numpy as np\n",
                "import random\n",
                "from datetime import datetime, timedelta\n",
                "import random\n",
                "\n",
                "from salesanalyzer.sales_summary_statistics import sales_summary_statistics"
            ]
        },
        {
            "cell_type": "markdown",
            "metadata": {},
            "source": [
                "## Create a sample data\n",
                "\n",
                "We'll first create a sample data to work with."
            ]
        },
        {
            "cell_type": "code",
            "execution_count": 3,
            "metadata": {},
            "outputs": [
                {
                    "data": {
                        "text/plain": [
                            "[datetime.datetime(2023, 7, 12, 15, 18, 29, 822362),\n",
                            " datetime.datetime(2023, 5, 24, 15, 18, 29, 822362),\n",
                            " datetime.datetime(2023, 10, 22, 15, 18, 29, 822362),\n",
                            " datetime.datetime(2023, 10, 15, 15, 18, 29, 822362),\n",
                            " datetime.datetime(2023, 6, 10, 15, 18, 29, 822362),\n",
                            " datetime.datetime(2023, 1, 25, 15, 18, 29, 822362),\n",
                            " datetime.datetime(2024, 12, 5, 15, 18, 29, 822362),\n",
                            " datetime.datetime(2023, 12, 5, 15, 18, 29, 822362),\n",
                            " datetime.datetime(2023, 4, 29, 15, 18, 29, 822362),\n",
                            " datetime.datetime(2024, 6, 4, 15, 18, 29, 822362),\n",
                            " datetime.datetime(2024, 10, 13, 15, 18, 29, 822362),\n",
                            " datetime.datetime(2023, 8, 14, 15, 18, 29, 822362),\n",
                            " datetime.datetime(2023, 2, 15, 15, 18, 29, 822362),\n",
                            " datetime.datetime(2024, 6, 20, 15, 18, 29, 822362),\n",
                            " datetime.datetime(2023, 3, 19, 15, 18, 29, 822362),\n",
                            " datetime.datetime(2023, 5, 11, 15, 18, 29, 822362),\n",
                            " datetime.datetime(2023, 2, 11, 15, 18, 29, 822362),\n",
                            " datetime.datetime(2024, 2, 23, 15, 18, 29, 822362),\n",
                            " datetime.datetime(2024, 8, 13, 15, 18, 29, 822362),\n",
                            " datetime.datetime(2023, 4, 11, 15, 18, 29, 822362)]"
                        ]
                    },
                    "execution_count": 3,
                    "metadata": {},
                    "output_type": "execute_result"
                }
            ],
            "source": [
                "def generate_random_dates(n):\n",
                "    random.seed(1)\n",
                "    # Get the current date\n",
                "    today = datetime.now()\n",
                "    # Calculate the date two years ago\n",
                "    two_years_ago = today - timedelta(days=730)\n",
                "    \n",
                "    # Generate n random dates\n",
                "    random_dates = [\n",
                "        two_years_ago + timedelta(days=random.randint(0, (today - two_years_ago).days))\n",
                "        for _ in range(n)\n",
                "    ]\n",
                "\n",
                "    return random_dates  "
            ]
        },
        {
            "cell_type": "code",
            "execution_count": 5,
            "metadata": {},
            "outputs": [],
            "source": [
                "def anonymize_data(obs=50):\n",
                "    random.seed(1)\n",
                "\n",
                "    df = pd.DataFrame({})\n",
                "\n",
                "    fake_products = [\n",
                "        \"Laptop\", \"Monitor\", \"Headphone\"\n",
                "    ]\n",
                "\n",
                "    fake_cities = [\n",
                "        \"Vancouver\", \"Toronto\", \"Calgary\"\n",
                "    ]\n",
                "    \n",
                "\n",
                "    # Replace InvoiceNo with random unique numbers\n",
                "    df['InvoiceNo'] = [f'INV-{random.randint(100000, 999999)}' for _ in range(obs)]\n",
                "\n",
                "    # Replace StockCode with random alphanumeric strings\n",
                "    df['StockCode'] = [f'SC{random.randint(1000, 9999)}' for _ in range(obs)]\n",
                "\n",
                "    # Replace Description with random fake product names\n",
                "    df['Description'] = [random.choice(fake_products) for _ in range(obs)]\n",
                "\n",
                "    # Modify Quantity with random realistic values\n",
                "    df['Quantity'] = [int(np.random.exponential(2)) + 1 for _ in range(obs)]\n",
                "\n",
                "    # Replace InvoiceDate with random dates in the last two years\n",
                "    df['InvoiceDate'] = generate_random_dates(obs)\n",
                "\n",
                "    # Modify UnitPrice with random prices\n",
                "    df['UnitPrice'] = [round(random.uniform(0.5, 50), 2) for _ in range(obs)]\n",
                "\n",
                "    # Replace CustomerID with random unique identifiers\n",
                "    df['CustomerID'] = [random.randint(10000, 99999) for _ in range(obs)]\n",
                "\n",
                "    # Replace Country with random countries\n",
                "    df['Country'] = [random.choice(fake_cities) for _ in range(obs)]\n",
                "\n",
                "    return df"
            ]
        },
        {
            "cell_type": "code",
            "execution_count": 7,
            "metadata": {},
            "outputs": [
                {
                    "data": {
                        "text/html": [
                            "<div>\n",
                            "<style scoped>\n",
                            "    .dataframe tbody tr th:only-of-type {\n",
                            "        vertical-align: middle;\n",
                            "    }\n",
                            "\n",
                            "    .dataframe tbody tr th {\n",
                            "        vertical-align: top;\n",
                            "    }\n",
                            "\n",
                            "    .dataframe thead th {\n",
                            "        text-align: right;\n",
                            "    }\n",
                            "</style>\n",
                            "<table border=\"1\" class=\"dataframe\">\n",
                            "  <thead>\n",
                            "    <tr style=\"text-align: right;\">\n",
                            "      <th></th>\n",
                            "      <th>InvoiceNo</th>\n",
                            "      <th>StockCode</th>\n",
                            "      <th>Description</th>\n",
                            "      <th>Quantity</th>\n",
                            "      <th>InvoiceDate</th>\n",
                            "      <th>UnitPrice</th>\n",
                            "      <th>CustomerID</th>\n",
                            "      <th>Country</th>\n",
                            "    </tr>\n",
                            "  </thead>\n",
                            "  <tbody>\n",
                            "    <tr>\n",
                            "      <th>0</th>\n",
                            "      <td>INV-223420</td>\n",
                            "      <td>SC7102</td>\n",
                            "      <td>Monitor</td>\n",
                            "      <td>1</td>\n",
                            "      <td>2023-01-31 15:20:39.610514</td>\n",
                            "      <td>31.11</td>\n",
                            "      <td>79215</td>\n",
                            "      <td>Vancouver</td>\n",
                            "    </tr>\n",
                            "    <tr>\n",
                            "      <th>1</th>\n",
                            "      <td>INV-583723</td>\n",
                            "      <td>SC9216</td>\n",
                            "      <td>Monitor</td>\n",
                            "      <td>2</td>\n",
                            "      <td>2023-03-07 15:20:39.610514</td>\n",
                            "      <td>31.69</td>\n",
                            "      <td>40284</td>\n",
                            "      <td>Vancouver</td>\n",
                            "    </tr>\n",
                            "    <tr>\n",
                            "      <th>2</th>\n",
                            "      <td>INV-700974</td>\n",
                            "      <td>SC2759</td>\n",
                            "      <td>Monitor</td>\n",
                            "      <td>1</td>\n",
                            "      <td>2024-05-21 15:20:39.610514</td>\n",
                            "      <td>24.96</td>\n",
                            "      <td>83268</td>\n",
                            "      <td>Calgary</td>\n",
                            "    </tr>\n",
                            "    <tr>\n",
                            "      <th>3</th>\n",
                            "      <td>INV-167910</td>\n",
                            "      <td>SC5663</td>\n",
                            "      <td>Headphone</td>\n",
                            "      <td>4</td>\n",
                            "      <td>2024-09-20 15:20:39.610514</td>\n",
                            "      <td>42.22</td>\n",
                            "      <td>93045</td>\n",
                            "      <td>Toronto</td>\n",
                            "    </tr>\n",
                            "    <tr>\n",
                            "      <th>4</th>\n",
                            "      <td>INV-844216</td>\n",
                            "      <td>SC5024</td>\n",
                            "      <td>Headphone</td>\n",
                            "      <td>2</td>\n",
                            "      <td>2023-08-09 15:20:39.610514</td>\n",
                            "      <td>38.64</td>\n",
                            "      <td>48897</td>\n",
                            "      <td>Vancouver</td>\n",
                            "    </tr>\n",
                            "  </tbody>\n",
                            "</table>\n",
                            "</div>"
                        ],
                        "text/plain": [
                            "    InvoiceNo StockCode Description  Quantity                InvoiceDate  \\\n",
                            "0  INV-223420    SC7102     Monitor         1 2023-01-31 15:20:39.610514   \n",
                            "1  INV-583723    SC9216     Monitor         2 2023-03-07 15:20:39.610514   \n",
                            "2  INV-700974    SC2759     Monitor         1 2024-05-21 15:20:39.610514   \n",
                            "3  INV-167910    SC5663   Headphone         4 2024-09-20 15:20:39.610514   \n",
                            "4  INV-844216    SC5024   Headphone         2 2023-08-09 15:20:39.610514   \n",
                            "\n",
                            "   UnitPrice  CustomerID    Country  \n",
                            "0      31.11       79215  Vancouver  \n",
                            "1      31.69       40284  Vancouver  \n",
                            "2      24.96       83268    Calgary  \n",
                            "3      42.22       93045    Toronto  \n",
                            "4      38.64       48897  Vancouver  "
                        ]
                    },
                    "execution_count": 7,
                    "metadata": {},
                    "output_type": "execute_result"
                }
            ],
            "source": [
                "sample_data = anonymize_data()\n",
                "sample_data.head()"
            ]
        },
        {
            "cell_type": "markdown",
            "metadata": {},
            "source": [
                "## Get Summary Statistics\n",
                "\n",
                "One of the key features of `sales_analyzer` is its ability to quickly generate sales summary. Use the `analyze_sales_trends` function to generate insights like total revenue, average order value, and top selling products."
            ]
        },
        {
            "cell_type": "code",
            "execution_count": 8,
            "metadata": {},
            "outputs": [
                {
                    "data": {
                        "text/html": [
                            "<div>\n",
                            "<style scoped>\n",
                            "    .dataframe tbody tr th:only-of-type {\n",
                            "        vertical-align: middle;\n",
                            "    }\n",
                            "\n",
                            "    .dataframe tbody tr th {\n",
                            "        vertical-align: top;\n",
                            "    }\n",
                            "\n",
                            "    .dataframe thead th {\n",
                            "        text-align: right;\n",
                            "    }\n",
                            "</style>\n",
                            "<table border=\"1\" class=\"dataframe\">\n",
                            "  <thead>\n",
                            "    <tr style=\"text-align: right;\">\n",
                            "      <th></th>\n",
                            "      <th>total_revenue</th>\n",
                            "      <th>unique_customers</th>\n",
                            "      <th>average_order_value</th>\n",
                            "      <th>top_selling_product_quantity</th>\n",
                            "      <th>top_selling_product_revenue</th>\n",
                            "      <th>average_revenue_per_customer</th>\n",
                            "    </tr>\n",
                            "  </thead>\n",
                            "  <tbody>\n",
                            "    <tr>\n",
                            "      <th>0</th>\n",
                            "      <td>3334.85</td>\n",
                            "      <td>50</td>\n",
                            "      <td>66.697</td>\n",
                            "      <td>Headphone</td>\n",
                            "      <td>Laptop</td>\n",
                            "      <td>66.697</td>\n",
                            "    </tr>\n",
                            "  </tbody>\n",
                            "</table>\n",
                            "</div>"
                        ],
                        "text/plain": [
                            "   total_revenue  unique_customers  average_order_value  \\\n",
                            "0        3334.85                50               66.697   \n",
                            "\n",
                            "  top_selling_product_quantity top_selling_product_revenue  \\\n",
                            "0                    Headphone                      Laptop   \n",
                            "\n",
                            "   average_revenue_per_customer  \n",
                            "0                        66.697  "
                        ]
                    },
                    "execution_count": 8,
                    "metadata": {},
                    "output_type": "execute_result"
                }
            ],
            "source": [
                "sales_summary_statistics(sample_data)"
            ]
        }
    ],
    "metadata": {
        "kernelspec": {
            "display_name": "salesanalyzer",
            "language": "python",
            "name": "python3"
        },
        "language_info": {
            "codemirror_mode": {
                "name": "ipython",
                "version": 3
            },
            "file_extension": ".py",
            "mimetype": "text/x-python",
            "name": "python",
            "nbconvert_exporter": "python",
            "pygments_lexer": "ipython3",
            "version": "3.13.1"
        }
    },
    "nbformat": 4,
    "nbformat_minor": 4
}
